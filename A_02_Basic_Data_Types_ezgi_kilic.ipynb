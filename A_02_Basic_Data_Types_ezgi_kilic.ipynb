{
 "cells": [
  {
   "cell_type": "markdown",
   "metadata": {},
   "source": [
    "# Assignments for \"Basic Data Types\" "
   ]
  },
  {
   "cell_type": "markdown",
   "metadata": {},
   "source": [
    "- Suppose you invested in Bitcoin at the end of 2017 when Bitcoin gained a lot of value. What would be your money at the end of a week if you had invested \\$1000 with an average daily increase of 12\\% ? You can solve the problem using Python."
   ]
  },
  {
   "cell_type": "code",
   "execution_count": null,
   "metadata": {},
   "outputs": [],
   "source": [
    "##### Help\n",
    "\n",
    "# Create a variable capital ($1000)\n",
    "\n",
    "# Create a variable for daily growth (12%)\n",
    "\n",
    "# Create a variable for period (7)\n",
    "\n",
    "# Calculate the final growth rate\n",
    "\n",
    "# Calculate result\n",
    "\n",
    "# Print result"
   ]
  },
  {
   "cell_type": "markdown",
   "metadata": {},
   "source": [
    "- Print the text in quotes with Python. However, you must get the numbers from variables using `.format()` notation. <br> Because the text is long, you might consider writing in two lines:\n",
    "\n",
    "        `\"When we buy bitcoin with 1000 USD at the beginning of the week, we would earn 1210.68 USD at the end of the week, with an average gain of 12\\%.\"`"
   ]
  },
  {
   "cell_type": "code",
   "execution_count": 83,
   "metadata": {},
   "outputs": [
    {
     "name": "stdout",
     "output_type": "stream",
     "text": [
      "2210.68\n",
      "`\"When we buy bitcoin with 1000 USD at the beginning of the wee \n",
      " k, we would earn 1210.68 USD at the end of the week, with a  n average gain of 12/%.\"'\n"
     ]
    }
   ],
   "source": [
    "money=1000\n",
    "rate=12\n",
    "period=7\n",
    "newmoney=money*(1+(rate/100))**period\n",
    "profit=newmoney-money\n",
    "print (round(x,2))\n",
    "print ('`\"When we buy bitcoin with {} USD at the beginning of the wee \\n k, we would earn {} USD at the end of the week, with a  n average gain of {}/%.\"\\''.format(money,round(profit,2),rate))"
   ]
  },
  {
   "cell_type": "code",
   "execution_count": 41,
   "metadata": {},
   "outputs": [
    {
     "name": "stdout",
     "output_type": "stream",
     "text": [
      "Enter the temperature in Fahrenheit :26\n",
      "user ---> 26\n",
      "output --->Temperature (C) : -3.33\n"
     ]
    }
   ],
   "source": [
    "root=input(\"Enter the temperature in Fahrenheit :\")\n",
    "celcius=(5/9)*(float(root)-32)\n",
    "print('user --->',root)\n",
    "print('output --->Temperature (C) :',round(celcius,2))"
   ]
  },
  {
   "cell_type": "markdown",
   "metadata": {},
   "source": [
    "#### - Get the temperature in Fahrenheit from user and write a code to convert it to Celcius. For conversion, you can use this formula: C = (5/9) * (F - 32)\n",
    "\n",
    "        Enter the temperature in Fahrenheit: \n",
    "        user --> 26\n",
    "        output --> Temperature (C) : -3.33"
   ]
  },
  {
   "cell_type": "code",
   "execution_count": 68,
   "metadata": {},
   "outputs": [
    {
     "name": "stdout",
     "output_type": "stream",
     "text": [
      "Enter a three digit number please :365\n",
      "user ---> 365\n",
      "outout ---> \"The sum of digits in the number is 14\n"
     ]
    }
   ],
   "source": [
    "root=int(input(\"Enter a three digit number please :\"))\n",
    "digit1 = (root )//100\n",
    "digit2 = (root - digit1*100)//10\n",
    "digit3 = (root - digit1*100 - digit2*10)\n",
    "sum_0f_digit=digit1+digit2+digit3\n",
    "#sum(int(digit) for digit in str(root))\n",
    "print('user --->',root)\n",
    "print('output ---> \\\"The sum of digits in the number is {}'.format(sum_0f_digit))"
   ]
  },
  {
   "cell_type": "markdown",
   "metadata": {},
   "source": [
    "- Get a three digit number the from user and calculate the sum of the digits in the integer.\n",
    "\n",
    "        user --> 365\n",
    "        output --> \"The sum of digits in the number is 14"
   ]
  },
  {
   "cell_type": "code",
   "execution_count": 81,
   "metadata": {},
   "outputs": [
    {
     "name": "stdout",
     "output_type": "stream",
     "text": [
      "enter the vertical side lenth :6\n",
      "enter the horizontal side lenth :8\n",
      "\"The length of the hypotenuse is 10\n"
     ]
    }
   ],
   "source": [
    "a=int(input(\"enter the vertical side lenth :\"))\n",
    "b=int(input(\"enter the horizontal side lenth :\"))\n",
    "c=int(((a**2)+(b**2))**(1/2))\n",
    "print(\"\\\"The length of the hypotenuse is {}\".format(c))"
   ]
  },
  {
   "cell_type": "markdown",
   "metadata": {},
   "source": [
    "- Write some code to calculate the hypotenuse of a right angled triangle. Get the side lengths from the user.\n",
    "\n",
    "        user --> first side lenth : 6\n",
    "        user --> first side lenth : 8\n",
    "        output --> \"The length of the hypotenuse is 10"
   ]
  },
  {
   "cell_type": "code",
   "execution_count": null,
   "metadata": {},
   "outputs": [],
   "source": []
  }
 ],
 "metadata": {
  "kernelspec": {
   "display_name": "Python 3",
   "language": "python",
   "name": "python3"
  },
  "language_info": {
   "codemirror_mode": {
    "name": "ipython",
    "version": 3
   },
   "file_extension": ".py",
   "mimetype": "text/x-python",
   "name": "python",
   "nbconvert_exporter": "python",
   "pygments_lexer": "ipython3",
   "version": "3.8.3"
  }
 },
 "nbformat": 4,
 "nbformat_minor": 4
}
