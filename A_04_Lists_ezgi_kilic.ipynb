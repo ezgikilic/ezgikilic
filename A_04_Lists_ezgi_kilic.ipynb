{
 "cells": [
  {
   "cell_type": "markdown",
   "metadata": {},
   "source": [
    "# Assignments for \"Lists\" "
   ]
  },
  {
   "cell_type": "markdown",
   "metadata": {},
   "source": [
    "- Write a code to compute the sum of the two lowest numbers and the two highest numbers in the following list.\n",
    "\n",
    "        my_list = [34, 56, 76, 45, 2, 12, 67, 98, 37, 54, 66]"
   ]
  },
  {
   "cell_type": "code",
   "execution_count": 83,
   "metadata": {},
   "outputs": [
    {
     "name": "stdout",
     "output_type": "stream",
     "text": [
      "Sum of two highest [76, 98] and lowest [2, 12]  numbers is : 188 \n"
     ]
    }
   ],
   "source": [
    "my_list = [34, 56, 76, 45, 2, 12, 67, 98, 37, 54, 66]\n",
    "\n",
    "my_list.sort()\n",
    "x=len(my_list)-2\n",
    "result=sum(my_list[0:2])+sum(my_list[x:(x+2)])\n",
    "print(\"Sum of two highest {} and lowest {}  numbers is : {} \".format(my_list[x:(x+2)],my_list[0:2],result))\n",
    "\n",
    "\n"
   ]
  },
  {
   "cell_type": "markdown",
   "metadata": {},
   "source": [
    "- The following two lists contain student names and scores. Write a code that gets the name from the user and prints the score of that student.\n",
    "\n",
    "        names = [\"David\", \"Michael\", \"John\", \"James\", \"Greg\", \"Mark\", \"William\", \"Richard\", \"Thomas\", \"Steven\", \n",
    "                 \"Mary\", \"Susan\", \"Maria\", \"Karen\", \"Lisa\", \"Linda\", \"Donna\", \"Patricia\", \"Debra\", \"Eric\"]\n",
    "\n",
    "        scores = [99, 87, 78, 86, 68, 94, 76, 97, 56, 98, 76, 87, 79, 90, 73, 93, 82, 69, 97, 98]"
   ]
  },
  {
   "cell_type": "code",
   "execution_count": 52,
   "metadata": {},
   "outputs": [
    {
     "name": "stdout",
     "output_type": "stream",
     "text": [
      "Enter the student name please :David\n",
      "David's  grade is : 99\n"
     ]
    }
   ],
   "source": [
    "names = [\"David\", \"Michael\", \"John\", \"James\", \"Greg\", \"Mark\", \"William\", \"Richard\", \"Thomas\", \"Steven\", \n",
    "                 \"Mary\", \"Susan\", \"Maria\", \"Karen\", \"Lisa\", \"Linda\", \"Donna\", \"Patricia\", \"Debra\", \"Eric\"]\n",
    "\n",
    "       \n",
    "scores = [99, 87, 78, 86, 68, 94, 76, 97, 56, 98, 76, 87, 79, 90, 73, 93, 82, 69, 97, 98]\n",
    "\n",
    "name=input(\"Enter the student name please :\")\n",
    "find_index=names.index(name)\n",
    "print(\"{}\\'s  grade is : {}\".format(name,scores[find_index]))\n"
   ]
  },
  {
   "cell_type": "markdown",
   "metadata": {},
   "source": [
    "- By using the two lists above, what is the maximum score and how many students got that score?"
   ]
  },
  {
   "cell_type": "code",
   "execution_count": 66,
   "metadata": {},
   "outputs": [
    {
     "name": "stdout",
     "output_type": "stream",
     "text": [
      "\"99\" is maximum score and 1 person/people gets this score.\n"
     ]
    }
   ],
   "source": [
    "names = [\"David\", \"Michael\", \"John\", \"James\", \"Greg\", \"Mark\", \"William\", \"Richard\", \"Thomas\", \"Steven\", \n",
    "                 \"Mary\", \"Susan\", \"Maria\", \"Karen\", \"Lisa\", \"Linda\", \"Donna\", \"Patricia\", \"Debra\", \"Eric\"]\n",
    "\n",
    "       \n",
    "scores = [99, 87, 78, 86, 68, 94, 76, 97, 56, 98, 76, 87, 79, 90, 73, 93, 82, 69, 97, 98]\n",
    "scores.sort(reverse=True)\n",
    "max_score=scores[0]\n",
    "print(\"\\\"{}\\\" is maximum score and {} person/people gets this score.\".format(max_score,scores.count(max_score)))"
   ]
  },
  {
   "cell_type": "markdown",
   "metadata": {},
   "source": [
    "- We can confuse about how many days a month is. Create a list to handle it. You will have month names and day counts in your list together as a nested list."
   ]
  },
  {
   "cell_type": "code",
   "execution_count": 208,
   "metadata": {},
   "outputs": [
    {
     "data": {
      "text/plain": [
       "[['January', 31],\n",
       " ['February', 28],\n",
       " ['March', 31],\n",
       " ['April', 30],\n",
       " ['May', 31],\n",
       " ['June', 30],\n",
       " ['July', 31],\n",
       " ['August', 31],\n",
       " ['September', 30],\n",
       " ['October', 31],\n",
       " ['November', 30],\n",
       " ['December', 31]]"
      ]
     },
     "execution_count": 208,
     "metadata": {},
     "output_type": "execute_result"
    }
   ],
   "source": [
    "months=[[\"January\",31],[\"February\",28],[\"March\",31],[\"April\",30],[\"May\",31],[\"June\",30],[\"July\",31],[\"August\",31],[\"September\",30],[\"October\",31],[\"November\",30],[\"December\",31]]\n",
    "months\n",
    "#months[0][0]"
   ]
  },
  {
   "cell_type": "markdown",
   "metadata": {},
   "source": [
    "- Now create lists of months for each season. Get month names and day counts from the list that you create before with slicing. Name the lists with seasons."
   ]
  },
  {
   "cell_type": "code",
   "execution_count": 40,
   "metadata": {},
   "outputs": [
    {
     "name": "stdout",
     "output_type": "stream",
     "text": [
      "[['January', 31], ['February', 28], 'December', 31]\n",
      "[['March', 31], ['April', 30], ['May', 31]]\n",
      "[['June', 30], ['July', 31], ['August', 31]]\n",
      "[['September', 30], ['October', 31], ['November', 30]]\n"
     ]
    }
   ],
   "source": [
    "months=[[\"January\",31],[\"February\",28],[\"March\",31],[\"April\",30],[\"May\",31],[\"June\",30],[\"July\",31],[\"August\",31],[\"September\",30],[\"October\",31],[\"November\",30],[\"December\",31]]\n",
    "winter=months[0:2]+months[11]\n",
    "print(winter)\n",
    "spring=months[2:5]\n",
    "print(spring)\n",
    "summer=months[5:8]\n",
    "print(summer)\n",
    "fall=months[8:11]\n",
    "print(fall)"
   ]
  },
  {
   "cell_type": "markdown",
   "metadata": {},
   "source": [
    "- Finally, from the list in the previous question, calculate how many days the summer season lasts."
   ]
  },
  {
   "cell_type": "code",
   "execution_count": 41,
   "metadata": {},
   "outputs": [
    {
     "name": "stdout",
     "output_type": "stream",
     "text": [
      "Summer has 92 days. \n"
     ]
    }
   ],
   "source": [
    "winter=months[0:2]+months[11]\n",
    "spring=months[2:5]\n",
    "summer=months[5:8]\n",
    "fall=months[8:11]\n",
    "print(\"Summer has {} days. \".format(summer[0][1]+summer[1][1]+summer[2][1]))"
   ]
  },
  {
   "cell_type": "code",
   "execution_count": null,
   "metadata": {},
   "outputs": [],
   "source": []
  }
 ],
 "metadata": {
  "kernelspec": {
   "display_name": "Python 3",
   "language": "python",
   "name": "python3"
  },
  "language_info": {
   "codemirror_mode": {
    "name": "ipython",
    "version": 3
   },
   "file_extension": ".py",
   "mimetype": "text/x-python",
   "name": "python",
   "nbconvert_exporter": "python",
   "pygments_lexer": "ipython3",
   "version": "3.8.3"
  }
 },
 "nbformat": 4,
 "nbformat_minor": 4
}
