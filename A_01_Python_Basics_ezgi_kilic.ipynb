{
 "cells": [
  {
   "cell_type": "markdown",
   "metadata": {},
   "source": [
    "# Assignments for \"Python Basics\" "
   ]
  },
  {
   "cell_type": "markdown",
   "metadata": {},
   "source": [
    "- Write a code that outputs your name and surname in one line."
   ]
  },
  {
   "cell_type": "code",
   "execution_count": 1,
   "metadata": {},
   "outputs": [
    {
     "name": "stdout",
     "output_type": "stream",
     "text": [
      "Ezgi Kılıç\n"
     ]
    }
   ],
   "source": [
    "print(\"Ezgi\" +\" \"+ \"Kılıç\")"
   ]
  },
  {
   "cell_type": "markdown",
   "metadata": {},
   "source": [
    "- Write a 1-line code that outputs your name and surname in two separate lines by using a single `print()` call."
   ]
  },
  {
   "cell_type": "code",
   "execution_count": 17,
   "metadata": {},
   "outputs": [
    {
     "name": "stdout",
     "output_type": "stream",
     "text": [
      "Ezgi \n",
      "Kılıç\n"
     ]
    }
   ],
   "source": [
    "print(\"Ezgi\",\"\\n\"\"Kılıç\")"
   ]
  },
  {
   "cell_type": "markdown",
   "metadata": {},
   "source": [
    "- Use `print()` function that returns the following text. Notice the quotes in the text. Those quotes should be seen in the output!: \n",
    "        `I don't want to be an \"artist\". I want to be a \"Data Analyst.\"`"
   ]
  },
  {
   "cell_type": "code",
   "execution_count": 36,
   "metadata": {},
   "outputs": [
    {
     "name": "stdout",
     "output_type": "stream",
     "text": [
      "'I don't want to be an  \"artist.\" I want to be a \"Data Analyst.\"'\n"
     ]
    }
   ],
   "source": [
    "print('\\'I don\\'t want to be an  \\\"artist.\" I want to be a \\\"Data Analyst.\"\\'')"
   ]
  },
  {
   "cell_type": "code",
   "execution_count": null,
   "metadata": {},
   "outputs": [],
   "source": []
  }
 ],
 "metadata": {
  "kernelspec": {
   "display_name": "Python 3",
   "language": "python",
   "name": "python3"
  },
  "language_info": {
   "codemirror_mode": {
    "name": "ipython",
    "version": 3
   },
   "file_extension": ".py",
   "mimetype": "text/x-python",
   "name": "python",
   "nbconvert_exporter": "python",
   "pygments_lexer": "ipython3",
   "version": "3.8.3"
  }
 },
 "nbformat": 4,
 "nbformat_minor": 4
}
